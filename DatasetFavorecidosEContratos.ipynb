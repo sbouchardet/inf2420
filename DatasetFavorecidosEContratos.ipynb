{
 "cells": [
  {
   "cell_type": "code",
   "execution_count": 1,
   "metadata": {},
   "outputs": [],
   "source": [
    "import pandas as pd\n",
    "from dataset_manager import DatasetManager\n",
    "import seaborn as sns\n",
    "from matplotlib import pyplot as plt\n",
    "\n",
    "\n",
    "dataset_path = \"./datasets\"\n",
    "manager = DatasetManager(dataset_path)"
   ]
  },
  {
   "cell_type": "code",
   "execution_count": 8,
   "metadata": {},
   "outputs": [],
   "source": [
    "dataset = manager.get_dataset(\"riotransparente_favorecidos_2018\")\n",
    "df = dataset.load_as_pandas(error_bad_lines=False, encoding='latin-1', sep=\";\")"
   ]
  },
  {
   "cell_type": "markdown",
   "metadata": {},
   "source": [
    "# Filtro: Fonte do recurso == merenda"
   ]
  },
  {
   "cell_type": "code",
   "execution_count": 16,
   "metadata": {},
   "outputs": [],
   "source": [
    "def filtro_merenda(df):\n",
    "    return df [df['Descrição da fonte de recursos'].str.contains(\"MERENDA ESCOLAR\")]"
   ]
  },
  {
   "cell_type": "markdown",
   "metadata": {},
   "source": [
    "# Converter Dinheiro para Float"
   ]
  },
  {
   "cell_type": "code",
   "execution_count": 18,
   "metadata": {},
   "outputs": [],
   "source": [
    "def cast_serie_to_float(serie):\n",
    "    return serie.apply(lambda x: float(x.replace(\",\",\".\")))"
   ]
  },
  {
   "cell_type": "code",
   "execution_count": 22,
   "metadata": {},
   "outputs": [],
   "source": [
    "colunas_valores=[\"vl anul liq rp\",\"Vl pago\", \"Vl anul disp\", \"Vl anul emp\", \"Vl anul rp\", 'Vl Soma Retencao', 'Vl inss',\n",
    "       'Vl iss', 'Vl ir', 'Vl descontos', 'Vl multas', 'Vl csll', 'Vl cofins',\n",
    "       'Vl pis pasep', 'Vl cofins pis pasep csll', 'Vl tafi', 'Vl tafc',\n",
    "       'Vl trfc']\n",
    "\n"
   ]
  },
  {
   "cell_type": "code",
   "execution_count": 27,
   "metadata": {},
   "outputs": [],
   "source": [
    "colunas_valores_formatados = []\n",
    "for clm in colunas_valores:\n",
    "    nova_coluna = \"{}_fmt\".format(clm)\n",
    "    df[nova_coluna]=cast_serie_to_float(df[clm])\n",
    "    colunas_valores_formatados.append(nova_coluna)"
   ]
  },
  {
   "cell_type": "markdown",
   "metadata": {},
   "source": [
    "# Overview geral do destino do dinheiro"
   ]
  },
  {
   "cell_type": "code",
   "execution_count": 44,
   "metadata": {},
   "outputs": [],
   "source": [
    "def comparacao_total(df, ano):\n",
    "    df_merenda = filtro_merenda(df)\n",
    "    valor_merenda = df_merenda[\"Vl pago_fmt\"].sum()\n",
    "    valor_total = df[\"Vl pago_fmt\"].sum()\n",
    "    print(\"O valor pago em merenda correpondeu a {}% do valor pago para Favorecidos no ano de {}\".format((valor_merenda/valor_total)*100, ano))"
   ]
  },
  {
   "cell_type": "code",
   "execution_count": 45,
   "metadata": {},
   "outputs": [
    {
     "name": "stdout",
     "output_type": "stream",
     "text": [
      "O valor pago em merenda correpondeu a 0.25670187123716254% do valor pago para Favorecidos no ano de 2018\n"
     ]
    }
   ],
   "source": [
    "comparacao_total(df, 2018)"
   ]
  },
  {
   "cell_type": "code",
   "execution_count": null,
   "metadata": {},
   "outputs": [],
   "source": []
  }
 ],
 "metadata": {
  "kernelspec": {
   "display_name": "Python 3",
   "language": "python",
   "name": "python3"
  },
  "language_info": {
   "codemirror_mode": {
    "name": "ipython",
    "version": 3
   },
   "file_extension": ".py",
   "mimetype": "text/x-python",
   "name": "python",
   "nbconvert_exporter": "python",
   "pygments_lexer": "ipython3",
   "version": "3.6.7"
  }
 },
 "nbformat": 4,
 "nbformat_minor": 2
}
