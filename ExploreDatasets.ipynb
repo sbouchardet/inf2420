{
 "cells": [
  {
   "cell_type": "code",
   "execution_count": 1,
   "metadata": {},
   "outputs": [],
   "source": [
    "import pandas as pd\n",
    "from dataset_manager import DatasetManager"
   ]
  },
  {
   "cell_type": "markdown",
   "metadata": {},
   "source": [
    "# 1 - Load de dados"
   ]
  },
  {
   "cell_type": "code",
   "execution_count": 2,
   "metadata": {},
   "outputs": [],
   "source": [
    "import os\n",
    "\n",
    "DATA_PATH = \"./data\"\n",
    "\n",
    "def download_file(url, final_path=None):\n",
    "    import urllib.request\n",
    "\n",
    "    if not final_path:\n",
    "        name = url.split(\"/\")[-1]\n",
    "        final_path = \"{}/{}\".format(DATA_PATH, name)\n",
    "    urllib.request.urlretrieve(url, final_path)\n",
    "    return final_path\n",
    "\n",
    "def unzip_file(path_to_zip_file, final_path=None):\n",
    "    import zipfile\n",
    "    \n",
    "    if not final_path:\n",
    "        name = os.path.basename(path_to_zip_file).split(\".\")[0]\n",
    "        final_path = \"{}/{}\".format(DATA_PATH, name)\n",
    "\n",
    "    zip_ref = zipfile.ZipFile(path_to_zip_file, 'r')\n",
    "    zip_ref.extractall(final_path)\n",
    "    zip_ref.close()\n",
    "    return final_path\n",
    "\n",
    "def download_all(manager, force=False):\n",
    "    for dataset in manager.list_datasets().to_dict('records'):\n",
    "        if not os.path.exists(dataset[\"local_source\"]) or force:\n",
    "            if \"zipped\" in dataset[\"format\"]:\n",
    "                path_downloaded = download_file(dataset[\"source\"])\n",
    "                unzip_file(path_downloaded, dataset[\"local_source\"])\n",
    "            else:\n",
    "                download_file(dataset[\"source\"], dataset[\"local_source\"])\n",
    "\n",
    "def get_dataset_source(manager, identifier):\n",
    "    dataset = manager.get_dataset(identifier)\n",
    "    if os.path.isdir(dataset[\"local_source\"]):\n",
    "        return [os.path.join(dataset[\"local_source\"], filename) for filename in os.listdir(dataset[\"local_source\"])]\n",
    "    elif os.path.isfile(dataset[\"local_source\"]):\n",
    "        return dataset[\"local_source\"]\n",
    "    else:\n",
    "        raise Exception(\"No dataset exists as {}\".format(dataset[\"local_source\"]))\n",
    "        "
   ]
  },
  {
   "cell_type": "code",
   "execution_count": 3,
   "metadata": {},
   "outputs": [
    {
     "data": {
      "text/html": [
       "<div>\n",
       "<style scoped>\n",
       "    .dataframe tbody tr th:only-of-type {\n",
       "        vertical-align: middle;\n",
       "    }\n",
       "\n",
       "    .dataframe tbody tr th {\n",
       "        vertical-align: top;\n",
       "    }\n",
       "\n",
       "    .dataframe thead th {\n",
       "        text-align: right;\n",
       "    }\n",
       "</style>\n",
       "<table border=\"1\" class=\"dataframe\">\n",
       "  <thead>\n",
       "    <tr style=\"text-align: right;\">\n",
       "      <th></th>\n",
       "      <th>description</th>\n",
       "      <th>format</th>\n",
       "      <th>identifier</th>\n",
       "      <th>local_source</th>\n",
       "      <th>source</th>\n",
       "    </tr>\n",
       "  </thead>\n",
       "  <tbody>\n",
       "    <tr>\n",
       "      <th>0</th>\n",
       "      <td>Quantidade de projetos para a construção de cr...</td>\n",
       "      <td>json</td>\n",
       "      <td>aprovacao_construcao_creche</td>\n",
       "      <td>./data/aprovacao_construcao_creche.json</td>\n",
       "      <td>http://api.pgi.gov.br/api/1/serie/2555.json</td>\n",
       "    </tr>\n",
       "    <tr>\n",
       "      <th>1</th>\n",
       "      <td>Quantidade de creches e pré-escolas cujas obra...</td>\n",
       "      <td>json</td>\n",
       "      <td>construcao_creche</td>\n",
       "      <td>./data/construcao_creche.json</td>\n",
       "      <td>http://api.pgi.gov.br/api/1/serie/2620.json</td>\n",
       "    </tr>\n",
       "    <tr>\n",
       "      <th>2</th>\n",
       "      <td>Valor do investimento para a construção das cr...</td>\n",
       "      <td>json</td>\n",
       "      <td>investimento_em_construcao_creche</td>\n",
       "      <td>./data/investimento_em_construcao_creche.json</td>\n",
       "      <td>http://api.pgi.gov.br/api/1/serie/1703.json</td>\n",
       "    </tr>\n",
       "    <tr>\n",
       "      <th>3</th>\n",
       "      <td>Média de alunos por turmas em escolas e creche...</td>\n",
       "      <td>xls zipped</td>\n",
       "      <td>media_alunos_2010</td>\n",
       "      <td>./data/media_alunos_2010</td>\n",
       "      <td>http://download.inep.gov.br/informacoes_estati...</td>\n",
       "    </tr>\n",
       "    <tr>\n",
       "      <th>4</th>\n",
       "      <td>Média de alunos por turmas em escolas e creche...</td>\n",
       "      <td>xls zipped</td>\n",
       "      <td>media_alunos_2008</td>\n",
       "      <td>./data/media_alunos_2008</td>\n",
       "      <td>http://download.inep.gov.br/informacoes_estati...</td>\n",
       "    </tr>\n",
       "    <tr>\n",
       "      <th>5</th>\n",
       "      <td>Média de alunos por turmas em escolas e creche...</td>\n",
       "      <td>xls zipped</td>\n",
       "      <td>media_alunos_2009</td>\n",
       "      <td>./data/media_alunos_2009</td>\n",
       "      <td>http://download.inep.gov.br/informacoes_estati...</td>\n",
       "    </tr>\n",
       "  </tbody>\n",
       "</table>\n",
       "</div>"
      ],
      "text/plain": [
       "                                         description      format  \\\n",
       "0  Quantidade de projetos para a construção de cr...        json   \n",
       "1  Quantidade de creches e pré-escolas cujas obra...        json   \n",
       "2  Valor do investimento para a construção das cr...        json   \n",
       "3  Média de alunos por turmas em escolas e creche...  xls zipped   \n",
       "4  Média de alunos por turmas em escolas e creche...  xls zipped   \n",
       "5  Média de alunos por turmas em escolas e creche...  xls zipped   \n",
       "\n",
       "                          identifier  \\\n",
       "0        aprovacao_construcao_creche   \n",
       "1                  construcao_creche   \n",
       "2  investimento_em_construcao_creche   \n",
       "3                  media_alunos_2010   \n",
       "4                  media_alunos_2008   \n",
       "5                  media_alunos_2009   \n",
       "\n",
       "                                    local_source  \\\n",
       "0        ./data/aprovacao_construcao_creche.json   \n",
       "1                  ./data/construcao_creche.json   \n",
       "2  ./data/investimento_em_construcao_creche.json   \n",
       "3                       ./data/media_alunos_2010   \n",
       "4                       ./data/media_alunos_2008   \n",
       "5                       ./data/media_alunos_2009   \n",
       "\n",
       "                                              source  \n",
       "0        http://api.pgi.gov.br/api/1/serie/2555.json  \n",
       "1        http://api.pgi.gov.br/api/1/serie/2620.json  \n",
       "2        http://api.pgi.gov.br/api/1/serie/1703.json  \n",
       "3  http://download.inep.gov.br/informacoes_estati...  \n",
       "4  http://download.inep.gov.br/informacoes_estati...  \n",
       "5  http://download.inep.gov.br/informacoes_estati...  "
      ]
     },
     "execution_count": 3,
     "metadata": {},
     "output_type": "execute_result"
    }
   ],
   "source": [
    "dataset_path = \"./datasets\"\n",
    "manager = DatasetManager(dataset_path)\n",
    "manager.list_datasets()"
   ]
  },
  {
   "cell_type": "code",
   "execution_count": 4,
   "metadata": {},
   "outputs": [],
   "source": [
    "download_all(manager, False)"
   ]
  },
  {
   "cell_type": "code",
   "execution_count": 5,
   "metadata": {},
   "outputs": [],
   "source": [
    "alunos = manager.get_dataset(\"media_alunos_2008\")\n",
    "alunos_local = get_dataset_source(manager, \"media_alunos_2008\")\n",
    "alunos = pd.read_excel(alunos_local[0])"
   ]
  },
  {
   "cell_type": "markdown",
   "metadata": {},
   "source": [
    "# 2 - Rename de colunas"
   ]
  },
  {
   "cell_type": "code",
   "execution_count": 6,
   "metadata": {},
   "outputs": [],
   "source": [
    "alunos_renamed = alunos.rename(\n",
    "    columns={\n",
    "        \"Unnamed: 0\" : \"ano\",\n",
    "        \"Ministério da Educação\":\"regiao\",\n",
    "        \"Unnamed: 2\":\"estado\",\n",
    "        \"Unnamed: 3\" : \"cidade\",\n",
    "        \"Unnamed: 4\" : \"cod_municipio\",\n",
    "        \"Unnamed: 5\" : \"cod_escola\",\n",
    "        \"Unnamed: 6\" : \"nome_da_escola\",\n",
    "        \"Unnamed: 7\" : \"localizacao\",\n",
    "        \"Unnamed: 8\" : \"rede\",\n",
    "        \"Unnamed: 9\" : \"educacao_infantil - total\",\n",
    "        \"Unnamed: 10\" : \"educacao_infantil - creche\",\n",
    "        \"Unnamed: 11\" : \"educacao_infantil - pre-escola\",\n",
    "        \"Unnamed: 12\" : \"ensino_fundamental - total\",\n",
    "        \"Unnamed: 13\" : \"ensino_fundamental - anos_inic\",\n",
    "        \"Unnamed: 14\" : \"ensino_fundamental - anos_finais\",\n",
    "        \"Unnamed: 15\" : \"ensino_fundamental - 1ano\",\n",
    "        \"Unnamed: 16\" : \"ensino_fundamental - 2ano\",\n",
    "        \"Unnamed: 17\" : \"ensino_fundamental - 3ano\",\n",
    "        \"Unnamed: 18\" : \"ensino_fundamental - 4ano\",\n",
    "        \"Unnamed: 19\" : \"ensino_fundamental - 5ano\",\n",
    "        \"Unnamed: 20\" : \"ensino_fundamental - 6ano\",\n",
    "        \"Unnamed: 21\" : \"ensino_fundamental - 7ano\",\n",
    "        \"Unnamed: 22\" : \"ensino_fundamental - 8ano\",\n",
    "        \"Unnamed: 23\" : \"ensino_fundamental - 9ano\",\n",
    "        \"Unnamed: 24\" : \"turmas_unificadas\",\n",
    "        \"Unnamed: 25\" : \"ensino_medio - total_media\",\n",
    "        \"Unnamed: 26\" : \"ensino_medio - 1ano\",\n",
    "        \"Unnamed: 27\" : \"ensino_medio - 2ano\",\n",
    "        \"Unnamed: 28\" : \"ensino_medio - 3ano\",\n",
    "        \"Unnamed: 29\" : \"ensino_medio - 4ano\",\n",
    "        \"Unnamed: 30\" : \"medio_nao_seriado\"\n",
    "    }\n",
    ")"
   ]
  },
  {
   "cell_type": "markdown",
   "metadata": {},
   "source": [
    "# 3 - Filtro"
   ]
  },
  {
   "cell_type": "code",
   "execution_count": 7,
   "metadata": {},
   "outputs": [],
   "source": [
    "alunos_renamed_filtred = alunos_renamed[\n",
    "    (~alunos_renamed[\"nome_da_escola\"].isnull()) & (alunos_renamed[\"ano\"] != \"Ano\")]"
   ]
  },
  {
   "cell_type": "code",
   "execution_count": null,
   "metadata": {},
   "outputs": [],
   "source": []
  }
 ],
 "metadata": {
  "kernelspec": {
   "display_name": "Python 3",
   "language": "python",
   "name": "python3"
  },
  "language_info": {
   "codemirror_mode": {
    "name": "ipython",
    "version": 3
   },
   "file_extension": ".py",
   "mimetype": "text/x-python",
   "name": "python",
   "nbconvert_exporter": "python",
   "pygments_lexer": "ipython3",
   "version": "3.6.7"
  }
 },
 "nbformat": 4,
 "nbformat_minor": 2
}
