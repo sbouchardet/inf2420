{
 "cells": [
  {
   "cell_type": "code",
   "execution_count": 2,
   "metadata": {},
   "outputs": [],
   "source": [
    "import pandas as pd\n",
    "from dataset_manager import DatasetManager"
   ]
  },
  {
   "cell_type": "markdown",
   "metadata": {},
   "source": [
    "# 1 - Load de dados"
   ]
  },
  {
   "cell_type": "code",
   "execution_count": 3,
   "metadata": {},
   "outputs": [
    {
     "data": {
      "text/html": [
       "<div>\n",
       "<style scoped>\n",
       "    .dataframe tbody tr th:only-of-type {\n",
       "        vertical-align: middle;\n",
       "    }\n",
       "\n",
       "    .dataframe tbody tr th {\n",
       "        vertical-align: top;\n",
       "    }\n",
       "\n",
       "    .dataframe thead th {\n",
       "        text-align: right;\n",
       "    }\n",
       "</style>\n",
       "<table border=\"1\" class=\"dataframe\">\n",
       "  <thead>\n",
       "    <tr style=\"text-align: right;\">\n",
       "      <th></th>\n",
       "      <th>description</th>\n",
       "      <th>format</th>\n",
       "      <th>identifier</th>\n",
       "      <th>local_source</th>\n",
       "      <th>source</th>\n",
       "    </tr>\n",
       "  </thead>\n",
       "  <tbody>\n",
       "    <tr>\n",
       "      <th>0</th>\n",
       "      <td>Média de alunos por turmas em escolas e creche...</td>\n",
       "      <td>zip xls</td>\n",
       "      <td>media_alunos_2008</td>\n",
       "      <td>./data/media_alunos_2008</td>\n",
       "      <td>http://download.inep.gov.br/informacoes_estati...</td>\n",
       "    </tr>\n",
       "    <tr>\n",
       "      <th>1</th>\n",
       "      <td>Quantidade de creches e pré-escolas cujas obra...</td>\n",
       "      <td>json</td>\n",
       "      <td>construcao_creche</td>\n",
       "      <td>./data/construcao_creche.json</td>\n",
       "      <td>http://api.pgi.gov.br/api/1/serie/2620.json</td>\n",
       "    </tr>\n",
       "    <tr>\n",
       "      <th>2</th>\n",
       "      <td>Quantidade de projetos para a construção de cr...</td>\n",
       "      <td>json</td>\n",
       "      <td>aprovacao_construcao_creche</td>\n",
       "      <td>./data/aprovacao_construcao_creche.json</td>\n",
       "      <td>http://api.pgi.gov.br/api/1/serie/2555.json</td>\n",
       "    </tr>\n",
       "    <tr>\n",
       "      <th>3</th>\n",
       "      <td>Valor do investimento para a construção das cr...</td>\n",
       "      <td>json</td>\n",
       "      <td>investimento_em_construcao_creche</td>\n",
       "      <td>./data/investimento_em_construcao_creche.json</td>\n",
       "      <td>http://api.pgi.gov.br/api/1/serie/1703.json</td>\n",
       "    </tr>\n",
       "    <tr>\n",
       "      <th>4</th>\n",
       "      <td>Média de alunos por turmas em escolas e creche...</td>\n",
       "      <td>zip xls</td>\n",
       "      <td>media_alunos_2010</td>\n",
       "      <td>./data/media_alunos_2010</td>\n",
       "      <td>http://download.inep.gov.br/informacoes_estati...</td>\n",
       "    </tr>\n",
       "    <tr>\n",
       "      <th>5</th>\n",
       "      <td>Média de alunos por turmas em escolas e creche...</td>\n",
       "      <td>zip xls</td>\n",
       "      <td>media_alunos_2009</td>\n",
       "      <td>./data/media_alunos_2009</td>\n",
       "      <td>http://download.inep.gov.br/informacoes_estati...</td>\n",
       "    </tr>\n",
       "  </tbody>\n",
       "</table>\n",
       "</div>"
      ],
      "text/plain": [
       "                                         description   format  \\\n",
       "0  Média de alunos por turmas em escolas e creche...  zip xls   \n",
       "1  Quantidade de creches e pré-escolas cujas obra...     json   \n",
       "2  Quantidade de projetos para a construção de cr...     json   \n",
       "3  Valor do investimento para a construção das cr...     json   \n",
       "4  Média de alunos por turmas em escolas e creche...  zip xls   \n",
       "5  Média de alunos por turmas em escolas e creche...  zip xls   \n",
       "\n",
       "                          identifier  \\\n",
       "0                  media_alunos_2008   \n",
       "1                  construcao_creche   \n",
       "2        aprovacao_construcao_creche   \n",
       "3  investimento_em_construcao_creche   \n",
       "4                  media_alunos_2010   \n",
       "5                  media_alunos_2009   \n",
       "\n",
       "                                    local_source  \\\n",
       "0                       ./data/media_alunos_2008   \n",
       "1                  ./data/construcao_creche.json   \n",
       "2        ./data/aprovacao_construcao_creche.json   \n",
       "3  ./data/investimento_em_construcao_creche.json   \n",
       "4                       ./data/media_alunos_2010   \n",
       "5                       ./data/media_alunos_2009   \n",
       "\n",
       "                                              source  \n",
       "0  http://download.inep.gov.br/informacoes_estati...  \n",
       "1        http://api.pgi.gov.br/api/1/serie/2620.json  \n",
       "2        http://api.pgi.gov.br/api/1/serie/2555.json  \n",
       "3        http://api.pgi.gov.br/api/1/serie/1703.json  \n",
       "4  http://download.inep.gov.br/informacoes_estati...  \n",
       "5  http://download.inep.gov.br/informacoes_estati...  "
      ]
     },
     "execution_count": 3,
     "metadata": {},
     "output_type": "execute_result"
    }
   ],
   "source": [
    "dataset_path = \"./datasets\"\n",
    "manager = DatasetManager(dataset_path)\n",
    "manager.show_datasets()"
   ]
  },
  {
   "cell_type": "code",
   "execution_count": 4,
   "metadata": {},
   "outputs": [
    {
     "name": "stderr",
     "output_type": "stream",
     "text": [
      "04-29 21:34 - DatasetManager - prepare_dataset - INFO - Preparing media_alunos_2008 ...\n",
      "04-29 21:34 - DataSource - download - DEBUG - media_alunos_2008 is cached. Skip Download.\n",
      "04-29 21:34 - DataSource - unzip_file - DEBUG - local zip file of {} do not existes.\n",
      "04-29 21:34 - DatasetManager - prepare_dataset - INFO - media_alunos_2008 is ready to use!\n",
      "04-29 21:34 - DatasetManager - prepare_dataset - INFO - Preparing construcao_creche ...\n",
      "04-29 21:34 - DataSource - download - DEBUG - construcao_creche is cached. Skip Download.\n",
      "04-29 21:34 - DataSource - unzip_file - DEBUG - local zip file of {} do not existes.\n",
      "04-29 21:34 - DatasetManager - prepare_dataset - INFO - construcao_creche is ready to use!\n",
      "04-29 21:34 - DatasetManager - prepare_dataset - INFO - Preparing aprovacao_construcao_creche ...\n",
      "04-29 21:34 - DataSource - download - DEBUG - aprovacao_construcao_creche is cached. Skip Download.\n",
      "04-29 21:34 - DataSource - unzip_file - DEBUG - local zip file of {} do not existes.\n",
      "04-29 21:34 - DatasetManager - prepare_dataset - INFO - aprovacao_construcao_creche is ready to use!\n",
      "04-29 21:34 - DatasetManager - prepare_dataset - INFO - Preparing investimento_em_construcao_creche ...\n",
      "04-29 21:34 - DataSource - download - DEBUG - investimento_em_construcao_creche is cached. Skip Download.\n",
      "04-29 21:34 - DataSource - unzip_file - DEBUG - local zip file of {} do not existes.\n",
      "04-29 21:34 - DatasetManager - prepare_dataset - INFO - investimento_em_construcao_creche is ready to use!\n",
      "04-29 21:34 - DatasetManager - prepare_dataset - INFO - Preparing media_alunos_2010 ...\n",
      "04-29 21:34 - DataSource - download - DEBUG - media_alunos_2010 is cached. Skip Download.\n",
      "04-29 21:34 - DataSource - unzip_file - DEBUG - local zip file of {} do not existes.\n",
      "04-29 21:34 - DatasetManager - prepare_dataset - INFO - media_alunos_2010 is ready to use!\n",
      "04-29 21:34 - DatasetManager - prepare_dataset - INFO - Preparing media_alunos_2009 ...\n",
      "04-29 21:34 - DataSource - download - DEBUG - media_alunos_2009 is cached. Skip Download.\n",
      "04-29 21:34 - DataSource - unzip_file - DEBUG - local zip file of {} do not existes.\n",
      "04-29 21:34 - DatasetManager - prepare_dataset - INFO - media_alunos_2009 is ready to use!\n"
     ]
    }
   ],
   "source": [
    "manager.prepare_dataset()"
   ]
  },
  {
   "cell_type": "markdown",
   "metadata": {},
   "source": [
    "# 2 - Ler dataset de media de alunos"
   ]
  },
  {
   "cell_type": "code",
   "execution_count": 5,
   "metadata": {},
   "outputs": [],
   "source": [
    "datasets_keys = [x for x in manager.get_datasets() if x.startswith(\"media_alunos\")]"
   ]
  },
  {
   "cell_type": "code",
   "execution_count": 6,
   "metadata": {},
   "outputs": [],
   "source": [
    "def read_dataset(identifier):\n",
    "    datasets = manager.load_as_pandas(identifier, sheet_name=[0,1])\n",
    "    return pd.concat(datasets)"
   ]
  },
  {
   "cell_type": "code",
   "execution_count": 7,
   "metadata": {},
   "outputs": [],
   "source": [
    "alunos_2008 = read_dataset(datasets_keys[0])\n",
    "alunos_2009 = read_dataset(datasets_keys[1])\n",
    "alunos_2010 = read_dataset(datasets_keys[2])"
   ]
  },
  {
   "cell_type": "code",
   "execution_count": 8,
   "metadata": {},
   "outputs": [],
   "source": [
    "alunos = pd.concat([alunos_2008,alunos_2009, alunos_2010])"
   ]
  },
  {
   "cell_type": "markdown",
   "metadata": {},
   "source": [
    "# 3 - Renomear colunas"
   ]
  },
  {
   "cell_type": "code",
   "execution_count": 9,
   "metadata": {},
   "outputs": [],
   "source": [
    "def renamed(df):\n",
    "    df_renamed = df.rename(\n",
    "        columns={\n",
    "            \"Unnamed: 0\" : \"ano\",\n",
    "            \"Ministério da Educação\":\"regiao\",\n",
    "            \"Unnamed: 2\":\"estado\",\n",
    "            \"Unnamed: 3\" : \"cod_municipio\",\n",
    "            \"Unnamed: 4\" : \"municipio\",\n",
    "            \"Unnamed: 5\" : \"localizacao\",\n",
    "            \"Unnamed: 6\" : \"rede\",\n",
    "            \"Unnamed: 7\" : \"media_alunos_etapa\",\n",
    "            \"Unnamed: 8\" : \"rede\",\n",
    "            \"Unnamed: 7\" : \"educacao_infantil - total\",\n",
    "            \"Unnamed: 8\" : \"educacao_infantil - creche\",\n",
    "            \"Unnamed: 9\" : \"educacao_infantil - pre-escola\",\n",
    "            \"Unnamed: 10\" : \"ensino_fundamental - total\",\n",
    "            \"Unnamed: 11\" : \"ensino_fundamental - anos_inic\",\n",
    "            \"Unnamed: 12\" : \"ensino_fundamental - anos_finais\",\n",
    "            \"Unnamed: 13\" : \"ensino_fundamental - 1ano\",\n",
    "            \"Unnamed: 14\" : \"ensino_fundamental - 2ano\",\n",
    "            \"Unnamed: 15\" : \"ensino_fundamental - 3ano\",\n",
    "            \"Unnamed: 16\" : \"ensino_fundamental - 4ano\",\n",
    "            \"Unnamed: 17\" : \"ensino_fundamental - 5ano\",\n",
    "            \"Unnamed: 18\" : \"ensino_fundamental - 6ano\",\n",
    "            \"Unnamed: 19\" : \"ensino_fundamental - 7ano\",\n",
    "            \"Unnamed: 20\" : \"ensino_fundamental - 8ano\",\n",
    "            \"Unnamed: 21\" : \"ensino_fundamental - 9ano\",\n",
    "            \"Unnamed: 22\" : \"turmas_unificadas\",\n",
    "            \"Unnamed: 23\" : \"ensino_medio - total_media\",\n",
    "            \"Unnamed: 24\" : \"ensino_medio - 1ano\",\n",
    "            \"Unnamed: 25\" : \"ensino_medio - 2ano\",\n",
    "            \"Unnamed: 26\" : \"ensino_medio - 3ano\",\n",
    "            \"Unnamed: 27\" : \"ensino_medio - 4ano\",\n",
    "            \"Unnamed: 28\" : \"medio_nao_seriado\"\n",
    "        }\n",
    "    )\n",
    "    return df_renamed"
   ]
  },
  {
   "cell_type": "code",
   "execution_count": 10,
   "metadata": {},
   "outputs": [],
   "source": [
    "alunos_renamed = renamed(alunos)"
   ]
  },
  {
   "cell_type": "markdown",
   "metadata": {},
   "source": [
    "# 4 - Filtro"
   ]
  },
  {
   "cell_type": "code",
   "execution_count": 11,
   "metadata": {},
   "outputs": [],
   "source": [
    "def filter_df(df):\n",
    "    df_renamed_filtred = df[\n",
    "        (~df[\"municipio\"].isnull()) & \n",
    "        (df[\"ano\"] != \"Ano\")]\n",
    "    \n",
    "    df_clean = df_renamed_filtred[[\"ano\",\n",
    "                        \"estado\",\n",
    "                        \"municipio\",\n",
    "                        \"localizacao\",\n",
    "                        \"rede\",\n",
    "                        \"educacao_infantil - creche\",\n",
    "                        \"educacao_infantil - pre-escola\"]]\n",
    "    \n",
    "    return df_clean"
   ]
  },
  {
   "cell_type": "code",
   "execution_count": 12,
   "metadata": {},
   "outputs": [],
   "source": [
    "alunos_filtered = filter_df(alunos_renamed)"
   ]
  },
  {
   "cell_type": "markdown",
   "metadata": {},
   "source": [
    "## Filtro alunos apenas no `Rio de Janeiro`"
   ]
  },
  {
   "cell_type": "code",
   "execution_count": 13,
   "metadata": {},
   "outputs": [],
   "source": [
    "def city_filter(city_name, state_name):\n",
    "    alunos = alunos_filtered[ (alunos_filtered[\"municipio\"] == city_name) &\n",
    "                              (alunos_filtered[\"estado\"] == state_name)]\n",
    "    return alunos[alunos[\"localizacao\"] == \"Total\"]"
   ]
  },
  {
   "cell_type": "code",
   "execution_count": 14,
   "metadata": {},
   "outputs": [],
   "source": [
    "alunos_rj = city_filter(\"RIO DE JANEIRO\", \"RJ\")"
   ]
  },
  {
   "cell_type": "code",
   "execution_count": 15,
   "metadata": {},
   "outputs": [
    {
     "name": "stderr",
     "output_type": "stream",
     "text": [
      "04-29 21:36 - matplotlib - wrapper - DEBUG - CACHEDIR=/home/bouchardet/.cache/matplotlib\n",
      "04-29 21:36 - matplotlib.font_manager - <module> - DEBUG - Using fontManager instance from /home/bouchardet/.cache/matplotlib/fontlist-v300.json\n",
      "04-29 21:36 - matplotlib.pyplot - switch_backend - DEBUG - Loaded backend module://ipykernel.pylab.backend_inline version unknown.\n",
      "04-29 21:36 - matplotlib.pyplot - switch_backend - DEBUG - Loaded backend module://ipykernel.pylab.backend_inline version unknown.\n"
     ]
    }
   ],
   "source": [
    "import seaborn as sns\n",
    "from matplotlib import pyplot as plt\n",
    "sns.set_style(\"whitegrid\")"
   ]
  },
  {
   "cell_type": "markdown",
   "metadata": {},
   "source": [
    "## 5 -  Media de alunos em turmas nas criches da cidade do `Rio De Janeiro`"
   ]
  },
  {
   "cell_type": "code",
   "execution_count": 16,
   "metadata": {},
   "outputs": [
    {
     "data": {
      "text/plain": [
       "<matplotlib.legend.Legend at 0x7f7841de2208>"
      ]
     },
     "execution_count": 16,
     "metadata": {},
     "output_type": "execute_result"
    },
    {
     "name": "stderr",
     "output_type": "stream",
     "text": [
      "04-29 21:36 - matplotlib.axes._base - _update_title_position - DEBUG - update_title_pos\n",
      "04-29 21:36 - matplotlib.font_manager - _findfont_cached - DEBUG - findfont: Matching :family=sans-serif:style=normal:variant=normal:weight=normal:stretch=normal:size=10.0 to DejaVu Sans ('/home/bouchardet/Projects/data_science/.env/lib/python3.6/site-packages/matplotlib/mpl-data/fonts/ttf/DejaVuSans.ttf') with score of 2.050000.\n",
      "04-29 21:36 - matplotlib.font_manager - _findfont_cached - DEBUG - findfont: Matching :family=sans-serif:style=normal:variant=normal:weight=normal:stretch=normal:size=12.0 to DejaVu Sans ('/home/bouchardet/Projects/data_science/.env/lib/python3.6/site-packages/matplotlib/mpl-data/fonts/ttf/DejaVuSans.ttf') with score of 2.050000.\n",
      "04-29 21:36 - matplotlib.axes._base - _update_title_position - DEBUG - update_title_pos\n",
      "04-29 21:36 - matplotlib.axes._base - _update_title_position - DEBUG - update_title_pos\n",
      "04-29 21:36 - matplotlib.axes._base - _update_title_position - DEBUG - update_title_pos\n",
      "04-29 21:36 - matplotlib.axes._base - _update_title_position - DEBUG - update_title_pos\n"
     ]
    },
    {
     "data": {
      "image/png": "[encoded data removed]",
      "text/plain": [
       "<Figure size 864x432 with 1 Axes>"
      ]
     },
     "metadata": {
      "needs_background": "light"
     },
     "output_type": "display_data"
    }
   ],
   "source": [
    "plt.subplots(figsize=(12,6))\n",
    "plt.title(\"Média de crianças nas creches \\n do Rio de Janeiro\")\n",
    "\n",
    "sns.barplot(x=\"ano\",\n",
    "            y=\"educacao_infantil - creche\",\n",
    "            hue=\"rede\",\n",
    "            data=alunos_rj,\n",
    "            ci=None)\n",
    "plt.legend(loc=[1,1])\n"
   ]
  },
  {
   "cell_type": "markdown",
   "metadata": {},
   "source": [
    "# 6 - Comparação entreo o `Rio de Janeiro` e outras cidades"
   ]
  },
  {
   "cell_type": "code",
   "execution_count": 17,
   "metadata": {},
   "outputs": [],
   "source": [
    "def clean_alunos_filtered_by_year(year, state=None, city=None):\n",
    "\n",
    "    base_filter = ((alunos_filtered[\"educacao_infantil - creche\"] != \"--\") &\n",
    "                                       (alunos_filtered[\"rede\"] == \"Municipal\") &\n",
    "                                       (alunos_filtered[\"localizacao\"] == \"Total\"))\n",
    "    if state:\n",
    "        base_filter = base_filter & (alunos_filtered[\"estado\"] == state)\n",
    "    \n",
    "    if year:\n",
    "        base_filter = base_filter & (alunos_filtered[\"ano\"] == year)\n",
    "    \n",
    "    if city:\n",
    "        base_filter = base_filter & (alunos_filtered[\"municipio\"] == city)\n",
    "\n",
    "    return alunos_filtered[base_filter]"
   ]
  },
  {
   "cell_type": "code",
   "execution_count": 66,
   "metadata": {},
   "outputs": [],
   "source": [
    "def alunos_rank(year, state=None):\n",
    "    alunos_rj_year = clean_alunos_filtered_by_year(year,state)\n",
    "    alunos_rj_year.loc[:,'rank'] = alunos_rj_year[\"educacao_infantil - creche\"].rank(ascending = False) \n",
    "    return alunos_rj_year"
   ]
  },
  {
   "cell_type": "code",
   "execution_count": 67,
   "metadata": {},
   "outputs": [],
   "source": [
    "def rj_rank(year, state = None):\n",
    "    all_year = alunos_rank(year, state)\n",
    "    return all_year[all_year[\"municipio\"] == \"RIO DE JANEIRO\"][\"rank\"][0]"
   ]
  },
  {
   "cell_type": "code",
   "execution_count": 79,
   "metadata": {},
   "outputs": [
    {
     "name": "stderr",
     "output_type": "stream",
     "text": [
      "/home/bouchardet/Projects/data_science/.env/lib/python3.6/site-packages/pandas/core/indexing.py:362: SettingWithCopyWarning: \n",
      "A value is trying to be set on a copy of a slice from a DataFrame.\n",
      "Try using .loc[row_indexer,col_indexer] = value instead\n",
      "\n",
      "See the caveats in the documentation: http://pandas.pydata.org/pandas-docs/stable/indexing.html#indexing-view-versus-copy\n",
      "  self.obj[key] = _infer_fill_value(value)\n",
      "/home/bouchardet/Projects/data_science/.env/lib/python3.6/site-packages/pandas/core/indexing.py:543: SettingWithCopyWarning: \n",
      "A value is trying to be set on a copy of a slice from a DataFrame.\n",
      "Try using .loc[row_indexer,col_indexer] = value instead\n",
      "\n",
      "See the caveats in the documentation: http://pandas.pydata.org/pandas-docs/stable/indexing.html#indexing-view-versus-copy\n",
      "  self.obj[item] = s\n"
     ]
    },
    {
     "data": {
      "text/plain": [
       "<matplotlib.legend.Legend at 0x7f78260887b8>"
      ]
     },
     "execution_count": 79,
     "metadata": {},
     "output_type": "execute_result"
    },
    {
     "name": "stderr",
     "output_type": "stream",
     "text": [
      "04-29 22:13 - matplotlib.axes._base - _update_title_position - DEBUG - update_title_pos\n",
      "04-29 22:13 - matplotlib.axes._base - _update_title_position - DEBUG - update_title_pos\n",
      "04-29 22:13 - matplotlib.axes._base - _update_title_position - DEBUG - update_title_pos\n",
      "04-29 22:13 - matplotlib.axes._base - _update_title_position - DEBUG - update_title_pos\n",
      "04-29 22:13 - matplotlib.axes._base - _update_title_position - DEBUG - update_title_pos\n"
     ]
    },
    {
     "data": {
      "image/png": "[encoded data removed]",
      "text/plain": [
       "<Figure size 864x432 with 1 Axes>"
      ]
     },
     "metadata": {
      "needs_background": "light"
     },
     "output_type": "display_data"
    }
   ],
   "source": [
    "all_cities = pd.concat([alunos_rank(2008,\"RJ\"),\n",
    "                        alunos_rank(2009,\"RJ\"),\n",
    "                        alunos_rank(2010,\"RJ\")])\n",
    "\n",
    "top_cities = all_cities[all_cities[\"rank\"]<=5][\"municipio\"].unique()\n",
    "all_cities  = all_cities[all_cities['municipio'].isin(top_cities)]\n",
    "\n",
    "\n",
    "plt.subplots(figsize=(12,6))\n",
    "plt.title(\"Média de crianças nas creches \\n do Rio de Janeiro\")\n",
    "\n",
    "\n",
    "sns.barplot(x='ano', y='rank', hue='municipio', data=all_cities)\n",
    "plt.legend(loc=[1,1])"
   ]
  },
  {
   "cell_type": "code",
   "execution_count": 52,
   "metadata": {},
   "outputs": [],
   "source": [
    "sns.lineplot?"
   ]
  },
  {
   "cell_type": "code",
   "execution_count": null,
   "metadata": {},
   "outputs": [],
   "source": []
  }
 ],
 "metadata": {
  "kernelspec": {
   "display_name": "Python 3",
   "language": "python",
   "name": "python3"
  },
  "language_info": {
   "codemirror_mode": {
    "name": "ipython",
    "version": 3
   },
   "file_extension": ".py",
   "mimetype": "text/x-python",
   "name": "python",
   "nbconvert_exporter": "python",
   "pygments_lexer": "ipython3",
   "version": "3.6.6"
  }
 },
 "nbformat": 4,
 "nbformat_minor": 2
}
