{
 "cells": [
  {
   "cell_type": "code",
   "execution_count": 1,
   "metadata": {},
   "outputs": [],
   "source": [
    "import pandas as pd\n",
    "from dataset_manager import DatasetManager"
   ]
  },
  {
   "cell_type": "markdown",
   "metadata": {},
   "source": [
    "# 1 - Load de dados"
   ]
  },
  {
   "cell_type": "code",
   "execution_count": 2,
   "metadata": {},
   "outputs": [
    {
     "data": {
      "text/html": [
       "<div>\n",
       "<style scoped>\n",
       "    .dataframe tbody tr th:only-of-type {\n",
       "        vertical-align: middle;\n",
       "    }\n",
       "\n",
       "    .dataframe tbody tr th {\n",
       "        vertical-align: top;\n",
       "    }\n",
       "\n",
       "    .dataframe thead th {\n",
       "        text-align: right;\n",
       "    }\n",
       "</style>\n",
       "<table border=\"1\" class=\"dataframe\">\n",
       "  <thead>\n",
       "    <tr style=\"text-align: right;\">\n",
       "      <th></th>\n",
       "      <th>description</th>\n",
       "      <th>format</th>\n",
       "      <th>identifier</th>\n",
       "      <th>local_source</th>\n",
       "      <th>source</th>\n",
       "    </tr>\n",
       "  </thead>\n",
       "  <tbody>\n",
       "    <tr>\n",
       "      <th>0</th>\n",
       "      <td>censo 2000 familias</td>\n",
       "      <td>zip xls</td>\n",
       "      <td>censo_rj_familias_2000</td>\n",
       "      <td>./data/censo_2000</td>\n",
       "      <td>ftp://ftp.ibge.gov.br/Censos/Censo_Demografico...</td>\n",
       "    </tr>\n",
       "    <tr>\n",
       "      <th>1</th>\n",
       "      <td>Média de alunos por turmas em escolas e creche...</td>\n",
       "      <td>zip xls</td>\n",
       "      <td>media_alunos_2008</td>\n",
       "      <td>./data/media_alunos_2008</td>\n",
       "      <td>http://download.inep.gov.br/informacoes_estati...</td>\n",
       "    </tr>\n",
       "    <tr>\n",
       "      <th>2</th>\n",
       "      <td>Quantidade de creches e pré-escolas cujas obra...</td>\n",
       "      <td>json</td>\n",
       "      <td>construcao_creche</td>\n",
       "      <td>./data/construcao_creche.json</td>\n",
       "      <td>http://api.pgi.gov.br/api/1/serie/2620.json</td>\n",
       "    </tr>\n",
       "    <tr>\n",
       "      <th>3</th>\n",
       "      <td>Quantidade de projetos para a construção de cr...</td>\n",
       "      <td>json</td>\n",
       "      <td>aprovacao_construcao_creche</td>\n",
       "      <td>./data/aprovacao_construcao_creche.json</td>\n",
       "      <td>http://api.pgi.gov.br/api/1/serie/2555.json</td>\n",
       "    </tr>\n",
       "    <tr>\n",
       "      <th>4</th>\n",
       "      <td>censo 2010 familias</td>\n",
       "      <td>zip xls</td>\n",
       "      <td>censo_rj_familias_2010</td>\n",
       "      <td>./data/censo_2010</td>\n",
       "      <td>ftp://ftp.ibge.gov.br/Censos/Censo_Demografico...</td>\n",
       "    </tr>\n",
       "    <tr>\n",
       "      <th>5</th>\n",
       "      <td>Valor do investimento para a construção das cr...</td>\n",
       "      <td>json</td>\n",
       "      <td>investimento_em_construcao_creche</td>\n",
       "      <td>./data/investimento_em_construcao_creche.json</td>\n",
       "      <td>http://api.pgi.gov.br/api/1/serie/1703.json</td>\n",
       "    </tr>\n",
       "    <tr>\n",
       "      <th>6</th>\n",
       "      <td>Média de alunos por turmas em escolas e creche...</td>\n",
       "      <td>zip xls</td>\n",
       "      <td>media_alunos_2010</td>\n",
       "      <td>./data/media_alunos_2010</td>\n",
       "      <td>http://download.inep.gov.br/informacoes_estati...</td>\n",
       "    </tr>\n",
       "    <tr>\n",
       "      <th>7</th>\n",
       "      <td>Média de alunos por turmas em escolas e creche...</td>\n",
       "      <td>zip xls</td>\n",
       "      <td>media_alunos_2009</td>\n",
       "      <td>./data/media_alunos_2009</td>\n",
       "      <td>http://download.inep.gov.br/informacoes_estati...</td>\n",
       "    </tr>\n",
       "    <tr>\n",
       "      <th>8</th>\n",
       "      <td>Educação Infantil e Ensino fundamental: número...</td>\n",
       "      <td>xls</td>\n",
       "      <td>data_rio_2004_2008</td>\n",
       "      <td>./data/data_rio_2004_2008.xls</td>\n",
       "      <td>https://ago-item-storage.s3.us-east-1.amazonaw...</td>\n",
       "    </tr>\n",
       "  </tbody>\n",
       "</table>\n",
       "</div>"
      ],
      "text/plain": [
       "                                         description   format  \\\n",
       "0                                censo 2000 familias  zip xls   \n",
       "1  Média de alunos por turmas em escolas e creche...  zip xls   \n",
       "2  Quantidade de creches e pré-escolas cujas obra...     json   \n",
       "3  Quantidade de projetos para a construção de cr...     json   \n",
       "4                                censo 2010 familias  zip xls   \n",
       "5  Valor do investimento para a construção das cr...     json   \n",
       "6  Média de alunos por turmas em escolas e creche...  zip xls   \n",
       "7  Média de alunos por turmas em escolas e creche...  zip xls   \n",
       "8  Educação Infantil e Ensino fundamental: número...      xls   \n",
       "\n",
       "                          identifier  \\\n",
       "0             censo_rj_familias_2000   \n",
       "1                  media_alunos_2008   \n",
       "2                  construcao_creche   \n",
       "3        aprovacao_construcao_creche   \n",
       "4             censo_rj_familias_2010   \n",
       "5  investimento_em_construcao_creche   \n",
       "6                  media_alunos_2010   \n",
       "7                  media_alunos_2009   \n",
       "8                 data_rio_2004_2008   \n",
       "\n",
       "                                    local_source  \\\n",
       "0                              ./data/censo_2000   \n",
       "1                       ./data/media_alunos_2008   \n",
       "2                  ./data/construcao_creche.json   \n",
       "3        ./data/aprovacao_construcao_creche.json   \n",
       "4                              ./data/censo_2010   \n",
       "5  ./data/investimento_em_construcao_creche.json   \n",
       "6                       ./data/media_alunos_2010   \n",
       "7                       ./data/media_alunos_2009   \n",
       "8                  ./data/data_rio_2004_2008.xls   \n",
       "\n",
       "                                              source  \n",
       "0  ftp://ftp.ibge.gov.br/Censos/Censo_Demografico...  \n",
       "1  http://download.inep.gov.br/informacoes_estati...  \n",
       "2        http://api.pgi.gov.br/api/1/serie/2620.json  \n",
       "3        http://api.pgi.gov.br/api/1/serie/2555.json  \n",
       "4  ftp://ftp.ibge.gov.br/Censos/Censo_Demografico...  \n",
       "5        http://api.pgi.gov.br/api/1/serie/1703.json  \n",
       "6  http://download.inep.gov.br/informacoes_estati...  \n",
       "7  http://download.inep.gov.br/informacoes_estati...  \n",
       "8  https://ago-item-storage.s3.us-east-1.amazonaw...  "
      ]
     },
     "execution_count": 2,
     "metadata": {},
     "output_type": "execute_result"
    }
   ],
   "source": [
    "dataset_path = \"./datasets\"\n",
    "manager = DatasetManager(dataset_path)\n",
    "manager.show_datasets()"
   ]
  },
  {
   "cell_type": "code",
   "execution_count": 3,
   "metadata": {},
   "outputs": [
    {
     "name": "stderr",
     "output_type": "stream",
     "text": [
      "05-11 21:35 - DatasetManager - prepare_dataset - INFO - Preparing censo_rj_familias_2000 ...\n",
      "05-11 21:35 - DataSource - download - DEBUG - censo_rj_familias_2000 is not a online source!\n",
      "05-11 21:35 - DataSource - unzip_file - DEBUG - local zip file of {} do not existes.\n",
      "05-11 21:35 - DatasetManager - prepare_dataset - INFO - censo_rj_familias_2000 is ready to use!\n",
      "05-11 21:35 - DatasetManager - prepare_dataset - INFO - Preparing media_alunos_2008 ...\n",
      "05-11 21:35 - DataSource - download - DEBUG - media_alunos_2008 is cached. Skip Download.\n",
      "05-11 21:35 - DataSource - unzip_file - DEBUG - local zip file of {} do not existes.\n",
      "05-11 21:35 - DatasetManager - prepare_dataset - INFO - media_alunos_2008 is ready to use!\n",
      "05-11 21:35 - DatasetManager - prepare_dataset - INFO - Preparing construcao_creche ...\n",
      "05-11 21:35 - DataSource - download - DEBUG - construcao_creche is cached. Skip Download.\n",
      "05-11 21:35 - DataSource - unzip_file - DEBUG - local zip file of {} do not existes.\n",
      "05-11 21:35 - DatasetManager - prepare_dataset - INFO - construcao_creche is ready to use!\n",
      "05-11 21:35 - DatasetManager - prepare_dataset - INFO - Preparing aprovacao_construcao_creche ...\n",
      "05-11 21:35 - DataSource - download - DEBUG - aprovacao_construcao_creche is cached. Skip Download.\n",
      "05-11 21:35 - DataSource - unzip_file - DEBUG - local zip file of {} do not existes.\n",
      "05-11 21:35 - DatasetManager - prepare_dataset - INFO - aprovacao_construcao_creche is ready to use!\n",
      "05-11 21:35 - DatasetManager - prepare_dataset - INFO - Preparing censo_rj_familias_2010 ...\n",
      "05-11 21:35 - DataSource - download - DEBUG - censo_rj_familias_2010 is not a online source!\n",
      "05-11 21:35 - DataSource - unzip_file - DEBUG - local zip file of {} do not existes.\n",
      "05-11 21:35 - DatasetManager - prepare_dataset - INFO - censo_rj_familias_2010 is ready to use!\n",
      "05-11 21:35 - DatasetManager - prepare_dataset - INFO - Preparing investimento_em_construcao_creche ...\n",
      "05-11 21:35 - DataSource - download - DEBUG - investimento_em_construcao_creche is cached. Skip Download.\n",
      "05-11 21:35 - DataSource - unzip_file - DEBUG - local zip file of {} do not existes.\n",
      "05-11 21:35 - DatasetManager - prepare_dataset - INFO - investimento_em_construcao_creche is ready to use!\n",
      "05-11 21:35 - DatasetManager - prepare_dataset - INFO - Preparing media_alunos_2010 ...\n",
      "05-11 21:35 - DataSource - download - DEBUG - media_alunos_2010 is cached. Skip Download.\n",
      "05-11 21:35 - DataSource - unzip_file - DEBUG - local zip file of {} do not existes.\n",
      "05-11 21:35 - DatasetManager - prepare_dataset - INFO - media_alunos_2010 is ready to use!\n",
      "05-11 21:35 - DatasetManager - prepare_dataset - INFO - Preparing media_alunos_2009 ...\n",
      "05-11 21:35 - DataSource - download - DEBUG - media_alunos_2009 is cached. Skip Download.\n",
      "05-11 21:35 - DataSource - unzip_file - DEBUG - local zip file of {} do not existes.\n",
      "05-11 21:35 - DatasetManager - prepare_dataset - INFO - media_alunos_2009 is ready to use!\n",
      "05-11 21:35 - DatasetManager - prepare_dataset - INFO - Preparing data_rio_2004_2008 ...\n",
      "05-11 21:35 - DataSource - download - DEBUG - data_rio_2004_2008 is cached. Skip Download.\n",
      "05-11 21:35 - DataSource - unzip_file - DEBUG - local zip file of {} do not existes.\n",
      "05-11 21:35 - DatasetManager - prepare_dataset - INFO - data_rio_2004_2008 is ready to use!\n"
     ]
    }
   ],
   "source": [
    "manager.prepare_dataset()"
   ]
  },
  {
   "cell_type": "markdown",
   "metadata": {},
   "source": [
    "# 2 - Ler dataset de media de alunos"
   ]
  },
  {
   "cell_type": "code",
   "execution_count": 4,
   "metadata": {},
   "outputs": [],
   "source": [
    "datasets_keys = [x for x in manager.get_datasets() if x.startswith(\"media_alunos\")]"
   ]
  },
  {
   "cell_type": "code",
   "execution_count": 5,
   "metadata": {},
   "outputs": [],
   "source": [
    "def read_dataset(identifier):\n",
    "    datasets = manager.load_as_pandas(identifier, sheet_name=[0,1])\n",
    "    return pd.concat(datasets)"
   ]
  },
  {
   "cell_type": "code",
   "execution_count": 6,
   "metadata": {},
   "outputs": [],
   "source": [
    "alunos_2008 = read_dataset(datasets_keys[0])\n",
    "alunos_2009 = read_dataset(datasets_keys[1])\n",
    "alunos_2010 = read_dataset(datasets_keys[2])"
   ]
  },
  {
   "cell_type": "code",
   "execution_count": 7,
   "metadata": {},
   "outputs": [],
   "source": [
    "alunos = pd.concat([alunos_2008,alunos_2009, alunos_2010])"
   ]
  },
  {
   "cell_type": "markdown",
   "metadata": {},
   "source": [
    "# 3 - Renomear colunas"
   ]
  },
  {
   "cell_type": "code",
   "execution_count": 8,
   "metadata": {},
   "outputs": [],
   "source": [
    "def renamed(df):\n",
    "    df_renamed = df.rename(\n",
    "        columns={\n",
    "            \"Unnamed: 0\" : \"ano\",\n",
    "            \"Ministério da Educação\":\"regiao\",\n",
    "            \"Unnamed: 2\":\"estado\",\n",
    "            \"Unnamed: 3\" : \"cod_municipio\",\n",
    "            \"Unnamed: 4\" : \"municipio\",\n",
    "            \"Unnamed: 5\" : \"localizacao\",\n",
    "            \"Unnamed: 6\" : \"rede\",\n",
    "            \"Unnamed: 7\" : \"media_alunos_etapa\",\n",
    "            \"Unnamed: 8\" : \"rede\",\n",
    "            \"Unnamed: 7\" : \"educacao_infantil - total\",\n",
    "            \"Unnamed: 8\" : \"educacao_infantil - creche\",\n",
    "            \"Unnamed: 9\" : \"educacao_infantil - pre-escola\",\n",
    "            \"Unnamed: 10\" : \"ensino_fundamental - total\",\n",
    "            \"Unnamed: 11\" : \"ensino_fundamental - anos_inic\",\n",
    "            \"Unnamed: 12\" : \"ensino_fundamental - anos_finais\",\n",
    "            \"Unnamed: 13\" : \"ensino_fundamental - 1ano\",\n",
    "            \"Unnamed: 14\" : \"ensino_fundamental - 2ano\",\n",
    "            \"Unnamed: 15\" : \"ensino_fundamental - 3ano\",\n",
    "            \"Unnamed: 16\" : \"ensino_fundamental - 4ano\",\n",
    "            \"Unnamed: 17\" : \"ensino_fundamental - 5ano\",\n",
    "            \"Unnamed: 18\" : \"ensino_fundamental - 6ano\",\n",
    "            \"Unnamed: 19\" : \"ensino_fundamental - 7ano\",\n",
    "            \"Unnamed: 20\" : \"ensino_fundamental - 8ano\",\n",
    "            \"Unnamed: 21\" : \"ensino_fundamental - 9ano\",\n",
    "            \"Unnamed: 22\" : \"turmas_unificadas\",\n",
    "            \"Unnamed: 23\" : \"ensino_medio - total_media\",\n",
    "            \"Unnamed: 24\" : \"ensino_medio - 1ano\",\n",
    "            \"Unnamed: 25\" : \"ensino_medio - 2ano\",\n",
    "            \"Unnamed: 26\" : \"ensino_medio - 3ano\",\n",
    "            \"Unnamed: 27\" : \"ensino_medio - 4ano\",\n",
    "            \"Unnamed: 28\" : \"medio_nao_seriado\"\n",
    "        }\n",
    "    )\n",
    "    return df_renamed"
   ]
  },
  {
   "cell_type": "code",
   "execution_count": 9,
   "metadata": {},
   "outputs": [],
   "source": [
    "alunos_renamed = renamed(alunos)"
   ]
  },
  {
   "cell_type": "markdown",
   "metadata": {},
   "source": [
    "# 4 - Filtro"
   ]
  },
  {
   "cell_type": "code",
   "execution_count": 10,
   "metadata": {},
   "outputs": [],
   "source": [
    "def filter_df(df):\n",
    "    df_renamed_filtred = df[\n",
    "        (~df[\"municipio\"].isnull()) & \n",
    "        (df[\"ano\"] != \"Ano\")]\n",
    "    \n",
    "    df_clean = df_renamed_filtred[[\"ano\",\n",
    "                        \"estado\",\n",
    "                        \"municipio\",\n",
    "                        \"localizacao\",\n",
    "                        \"rede\",\n",
    "                        \"educacao_infantil - creche\",\n",
    "                        \"educacao_infantil - pre-escola\"]]\n",
    "    \n",
    "    return df_clean"
   ]
  },
  {
   "cell_type": "code",
   "execution_count": 11,
   "metadata": {},
   "outputs": [],
   "source": [
    "alunos_filtered = filter_df(alunos_renamed)"
   ]
  },
  {
   "cell_type": "markdown",
   "metadata": {},
   "source": [
    "## Filtro alunos apenas no `Rio de Janeiro`"
   ]
  },
  {
   "cell_type": "code",
   "execution_count": 12,
   "metadata": {},
   "outputs": [],
   "source": [
    "def city_filter(city_name, state_name):\n",
    "    alunos = alunos_filtered[ (alunos_filtered[\"municipio\"] == city_name) &\n",
    "                              (alunos_filtered[\"estado\"] == state_name)]\n",
    "    return alunos[alunos[\"localizacao\"] == \"Total\"]"
   ]
  },
  {
   "cell_type": "code",
   "execution_count": 13,
   "metadata": {},
   "outputs": [],
   "source": [
    "alunos_rj = city_filter(\"RIO DE JANEIRO\", \"RJ\")"
   ]
  },
  {
   "cell_type": "code",
   "execution_count": 14,
   "metadata": {},
   "outputs": [
    {
     "name": "stderr",
     "output_type": "stream",
     "text": [
      "05-11 21:36 - matplotlib - wrapper - DEBUG - CACHEDIR=/home/bouchardet/.cache/matplotlib\n",
      "05-11 21:36 - matplotlib.font_manager - <module> - DEBUG - Using fontManager instance from /home/bouchardet/.cache/matplotlib/fontlist-v300.json\n",
      "05-11 21:36 - matplotlib.pyplot - switch_backend - DEBUG - Loaded backend module://ipykernel.pylab.backend_inline version unknown.\n",
      "05-11 21:36 - matplotlib.pyplot - switch_backend - DEBUG - Loaded backend module://ipykernel.pylab.backend_inline version unknown.\n"
     ]
    }
   ],
   "source": [
    "import seaborn as sns\n",
    "from matplotlib import pyplot as plt\n",
    "sns.set_style(\"whitegrid\")"
   ]
  },
  {
   "cell_type": "markdown",
   "metadata": {},
   "source": [
    "## 5 -  Media de alunos em turmas nas creches da cidade do `Rio De Janeiro`"
   ]
  },
  {
   "cell_type": "code",
   "execution_count": 15,
   "metadata": {},
   "outputs": [
    {
     "data": {
      "text/plain": [
       "<matplotlib.legend.Legend at 0x7f24287e1c18>"
      ]
     },
     "execution_count": 15,
     "metadata": {},
     "output_type": "execute_result"
    },
    {
     "name": "stderr",
     "output_type": "stream",
     "text": [
      "05-11 21:36 - matplotlib.axes._base - _update_title_position - DEBUG - update_title_pos\n",
      "05-11 21:36 - matplotlib.font_manager - _findfont_cached - DEBUG - findfont: Matching :family=sans-serif:style=normal:variant=normal:weight=normal:stretch=normal:size=10.0 to DejaVu Sans ('/home/bouchardet/Projects/data_science/.env/lib/python3.6/site-packages/matplotlib/mpl-data/fonts/ttf/DejaVuSans.ttf') with score of 2.050000.\n",
      "05-11 21:36 - matplotlib.font_manager - _findfont_cached - DEBUG - findfont: Matching :family=sans-serif:style=normal:variant=normal:weight=normal:stretch=normal:size=12.0 to DejaVu Sans ('/home/bouchardet/Projects/data_science/.env/lib/python3.6/site-packages/matplotlib/mpl-data/fonts/ttf/DejaVuSans.ttf') with score of 2.050000.\n",
      "05-11 21:36 - matplotlib.axes._base - _update_title_position - DEBUG - update_title_pos\n",
      "05-11 21:36 - matplotlib.axes._base - _update_title_position - DEBUG - update_title_pos\n",
      "05-11 21:36 - matplotlib.axes._base - _update_title_position - DEBUG - update_title_pos\n",
      "05-11 21:36 - matplotlib.axes._base - _update_title_position - DEBUG - update_title_pos\n"
     ]
    },
    {
     "data": {
      "image/png": "[encoded data removed]",
      "text/plain": [
       "<Figure size 864x432 with 1 Axes>"
      ]
     },
     "metadata": {
      "needs_background": "light"
     },
     "output_type": "display_data"
    }
   ],
   "source": [
    "plt.subplots(figsize=(12,6))\n",
    "plt.title(\"Média de crianças nas creches \\n do Rio de Janeiro\")\n",
    "\n",
    "sns.barplot(x=\"ano\",\n",
    "            y=\"educacao_infantil - creche\",\n",
    "            hue=\"rede\",\n",
    "            data=alunos_rj,\n",
    "            ci=None)\n",
    "plt.legend(loc=[1,1])\n"
   ]
  },
  {
   "cell_type": "markdown",
   "metadata": {},
   "source": [
    "# 6 - Comparação entreo o `Rio de Janeiro` e outras cidades"
   ]
  },
  {
   "cell_type": "code",
   "execution_count": 16,
   "metadata": {},
   "outputs": [],
   "source": [
    "def clean_alunos_filtered_by_year(year, state=None, city=None):\n",
    "\n",
    "    base_filter = ((alunos_filtered[\"educacao_infantil - creche\"] != \"--\") &\n",
    "                                       (alunos_filtered[\"rede\"] == \"Municipal\") &\n",
    "                                       (alunos_filtered[\"localizacao\"] == \"Total\"))\n",
    "    if state:\n",
    "        base_filter = base_filter & (alunos_filtered[\"estado\"] == state)\n",
    "    \n",
    "    if year:\n",
    "        base_filter = base_filter & (alunos_filtered[\"ano\"] == year)\n",
    "    \n",
    "    if city:\n",
    "        base_filter = base_filter & (alunos_filtered[\"municipio\"] == city)\n",
    "\n",
    "    return alunos_filtered[base_filter]"
   ]
  },
  {
   "cell_type": "code",
   "execution_count": 17,
   "metadata": {},
   "outputs": [],
   "source": [
    "def alunos_rank(year, state=None):\n",
    "    alunos_rj_year = clean_alunos_filtered_by_year(year,state)\n",
    "    alunos_rj_year.loc[:,'rank'] = alunos_rj_year[\"educacao_infantil - creche\"].rank(ascending = False) \n",
    "    return alunos_rj_year"
   ]
  },
  {
   "cell_type": "code",
   "execution_count": 18,
   "metadata": {},
   "outputs": [],
   "source": [
    "def rj_rank(year, state = None):\n",
    "    all_year = alunos_rank(year, state)\n",
    "    return all_year[all_year[\"municipio\"] == \"RIO DE JANEIRO\"][\"rank\"][0]"
   ]
  },
  {
   "cell_type": "code",
   "execution_count": 19,
   "metadata": {},
   "outputs": [
    {
     "name": "stderr",
     "output_type": "stream",
     "text": [
      "/home/bouchardet/Projects/data_science/.env/lib/python3.6/site-packages/pandas/core/indexing.py:362: SettingWithCopyWarning: \n",
      "A value is trying to be set on a copy of a slice from a DataFrame.\n",
      "Try using .loc[row_indexer,col_indexer] = value instead\n",
      "\n",
      "See the caveats in the documentation: http://pandas.pydata.org/pandas-docs/stable/indexing.html#indexing-view-versus-copy\n",
      "  self.obj[key] = _infer_fill_value(value)\n",
      "/home/bouchardet/Projects/data_science/.env/lib/python3.6/site-packages/pandas/core/indexing.py:543: SettingWithCopyWarning: \n",
      "A value is trying to be set on a copy of a slice from a DataFrame.\n",
      "Try using .loc[row_indexer,col_indexer] = value instead\n",
      "\n",
      "See the caveats in the documentation: http://pandas.pydata.org/pandas-docs/stable/indexing.html#indexing-view-versus-copy\n",
      "  self.obj[item] = s\n"
     ]
    },
    {
     "name": "stdout",
     "output_type": "stream",
     "text": [
      "\n",
      "    Em 2008 o Rio de Janeiro foi o 5.0o municipio com maior lotação média nas salas das creches do estado, \n",
      "    e o 1274.0o municipio com maior lotação média do país.\n",
      "    \n",
      "\n",
      "    Em 2009 o Rio de Janeiro foi o 10.0o municipio com maior lotação média nas salas das creches do estado, \n",
      "    e o 1172.0o municipio com maior lotação média do país.\n",
      "    \n",
      "\n",
      "    Em 2010 o Rio de Janeiro foi o 5.0o municipio com maior lotação média nas salas das creches do estado, \n",
      "    e o 1037.0o municipio com maior lotação média do país.\n",
      "    \n"
     ]
    }
   ],
   "source": [
    "rio_de_janeiro_rank = {\n",
    "    2008: [rj_rank(2008,\"RJ\"),rj_rank(2008)],\n",
    "    2009: [rj_rank(2009,\"RJ\"),rj_rank(2009)],\n",
    "    2010: [rj_rank(2010,\"RJ\"),rj_rank(2010)]\n",
    "}\n",
    "\n",
    "for year in rio_de_janeiro_rank:\n",
    "    print(\"\"\"\n",
    "    Em {} o Rio de Janeiro foi o {}o municipio com maior lotação média nas salas das creches do estado, \n",
    "    e o {}o municipio com maior lotação média do país.\n",
    "    \"\"\".format(year, rio_de_janeiro_rank[year][0], rio_de_janeiro_rank[year][1]))"
   ]
  },
  {
   "cell_type": "code",
   "execution_count": 20,
   "metadata": {},
   "outputs": [
    {
     "data": {
      "text/plain": [
       "<matplotlib.legend.Legend at 0x7f2428934438>"
      ]
     },
     "execution_count": 20,
     "metadata": {},
     "output_type": "execute_result"
    },
    {
     "name": "stderr",
     "output_type": "stream",
     "text": [
      "05-11 21:36 - matplotlib.axes._base - _update_title_position - DEBUG - update_title_pos\n",
      "05-11 21:36 - matplotlib.axes._base - _update_title_position - DEBUG - update_title_pos\n",
      "05-11 21:36 - matplotlib.axes._base - _update_title_position - DEBUG - update_title_pos\n",
      "05-11 21:36 - matplotlib.axes._base - _update_title_position - DEBUG - update_title_pos\n",
      "05-11 21:36 - matplotlib.axes._base - _update_title_position - DEBUG - update_title_pos\n"
     ]
    },
    {
     "data": {
      "image/png": "[encoded data removed]",
      "text/plain": [
       "<Figure size 864x432 with 1 Axes>"
      ]
     },
     "metadata": {
      "needs_background": "light"
     },
     "output_type": "display_data"
    }
   ],
   "source": [
    "all_cities = pd.concat([alunos_rank(2008,\"RJ\"),\n",
    "                        alunos_rank(2009,\"RJ\"),\n",
    "                        alunos_rank(2010,\"RJ\")])\n",
    "\n",
    "top_cities = all_cities[all_cities[\"rank\"]<=5][\"municipio\"].unique()\n",
    "all_cities  = all_cities[all_cities['municipio'].isin(top_cities)]\n",
    "\n",
    "\n",
    "plt.subplots(figsize=(12,6))\n",
    "plt.title(\"Média de crianças nas creches municipais \\n nos municípios mais lotados do estado\")\n",
    "\n",
    "\n",
    "sns.barplot(x='ano', y='educacao_infantil - creche', hue='municipio', data=all_cities)\n",
    "plt.legend(loc=[1,1])"
   ]
  },
  {
   "cell_type": "code",
   "execution_count": null,
   "metadata": {},
   "outputs": [],
   "source": []
  }
 ],
 "metadata": {
  "kernelspec": {
   "display_name": "Python 3",
   "language": "python",
   "name": "python3"
  },
  "language_info": {
   "codemirror_mode": {
    "name": "ipython",
    "version": 3
   },
   "file_extension": ".py",
   "mimetype": "text/x-python",
   "name": "python",
   "nbconvert_exporter": "python",
   "pygments_lexer": "ipython3",
   "version": "3.6.6"
  }
 },
 "nbformat": 4,
 "nbformat_minor": 2
}
