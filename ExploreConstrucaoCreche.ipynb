{
 "cells": [
  {
   "cell_type": "code",
   "execution_count": 1,
   "metadata": {},
   "outputs": [],
   "source": [
    "import pandas as pd\n",
    "from dataset_manager import DatasetManager"
   ]
  },
  {
   "cell_type": "markdown",
   "metadata": {},
   "source": [
    "# 1 - Load de dados"
   ]
  },
  {
   "cell_type": "code",
   "execution_count": 4,
   "metadata": {},
   "outputs": [
    {
     "data": {
      "text/html": [
       "<div>\n",
       "<style scoped>\n",
       "    .dataframe tbody tr th:only-of-type {\n",
       "        vertical-align: middle;\n",
       "    }\n",
       "\n",
       "    .dataframe tbody tr th {\n",
       "        vertical-align: top;\n",
       "    }\n",
       "\n",
       "    .dataframe thead th {\n",
       "        text-align: right;\n",
       "    }\n",
       "</style>\n",
       "<table border=\"1\" class=\"dataframe\">\n",
       "  <thead>\n",
       "    <tr style=\"text-align: right;\">\n",
       "      <th></th>\n",
       "      <th>compression</th>\n",
       "      <th>description</th>\n",
       "      <th>format</th>\n",
       "      <th>identifier</th>\n",
       "      <th>local_source</th>\n",
       "      <th>source</th>\n",
       "    </tr>\n",
       "  </thead>\n",
       "  <tbody>\n",
       "    <tr>\n",
       "      <th>0</th>\n",
       "      <td>NaN</td>\n",
       "      <td>Quantidade de projetos para a construção de cr...</td>\n",
       "      <td>json</td>\n",
       "      <td>aprovacao_construcao_creche</td>\n",
       "      <td>./data/aprovacao_construcao_creche.json</td>\n",
       "      <td>http://api.pgi.gov.br/api/1/serie/2555.json</td>\n",
       "    </tr>\n",
       "    <tr>\n",
       "      <th>1</th>\n",
       "      <td>NaN</td>\n",
       "      <td>Educação Infantil e Ensino fundamental: número...</td>\n",
       "      <td>xls</td>\n",
       "      <td>data_rio_2004_2008</td>\n",
       "      <td>./data/data_rio_2004_2008.xls</td>\n",
       "      <td>./data/data_rio_2004_2008.xls</td>\n",
       "    </tr>\n",
       "    <tr>\n",
       "      <th>2</th>\n",
       "      <td>NaN</td>\n",
       "      <td>Quantidade de creches e pré-escolas cujas obra...</td>\n",
       "      <td>json</td>\n",
       "      <td>construcao_creche</td>\n",
       "      <td>./data/construcao_creche.json</td>\n",
       "      <td>http://api.pgi.gov.br/api/1/serie/2620.json</td>\n",
       "    </tr>\n",
       "    <tr>\n",
       "      <th>3</th>\n",
       "      <td>NaN</td>\n",
       "      <td>Valor do investimento para a construção das cr...</td>\n",
       "      <td>json</td>\n",
       "      <td>investimento_em_construcao_creche</td>\n",
       "      <td>./data/investimento_em_construcao_creche.json</td>\n",
       "      <td>http://api.pgi.gov.br/api/1/serie/1703.json</td>\n",
       "    </tr>\n",
       "    <tr>\n",
       "      <th>4</th>\n",
       "      <td>zip</td>\n",
       "      <td>Média de alunos por turmas em escolas e creche...</td>\n",
       "      <td>xls</td>\n",
       "      <td>media_alunos_2010</td>\n",
       "      <td>./data/media_alunos_2010</td>\n",
       "      <td>http://download.inep.gov.br/informacoes_estati...</td>\n",
       "    </tr>\n",
       "    <tr>\n",
       "      <th>5</th>\n",
       "      <td>zip</td>\n",
       "      <td>censo 2000 familias</td>\n",
       "      <td>xls</td>\n",
       "      <td>censo_rj_familias_2000</td>\n",
       "      <td>./data/censo_2000</td>\n",
       "      <td>ftp://ftp.ibge.gov.br/Censos/Censo_Demografico...</td>\n",
       "    </tr>\n",
       "    <tr>\n",
       "      <th>6</th>\n",
       "      <td>zip</td>\n",
       "      <td>Média de alunos por turmas em escolas e creche...</td>\n",
       "      <td>xls</td>\n",
       "      <td>media_alunos_2008</td>\n",
       "      <td>./data/media_alunos_2008</td>\n",
       "      <td>http://download.inep.gov.br/informacoes_estati...</td>\n",
       "    </tr>\n",
       "    <tr>\n",
       "      <th>7</th>\n",
       "      <td>zip</td>\n",
       "      <td>censo 2010 familias</td>\n",
       "      <td>xls</td>\n",
       "      <td>censo_rj_familias_2010</td>\n",
       "      <td>./data/censo_2010</td>\n",
       "      <td>ftp://ftp.ibge.gov.br/Censos/Censo_Demografico...</td>\n",
       "    </tr>\n",
       "    <tr>\n",
       "      <th>8</th>\n",
       "      <td>zip</td>\n",
       "      <td>Média de alunos por turmas em escolas e creche...</td>\n",
       "      <td>xls</td>\n",
       "      <td>media_alunos_2009</td>\n",
       "      <td>./data/media_alunos_2009</td>\n",
       "      <td>http://download.inep.gov.br/informacoes_estati...</td>\n",
       "    </tr>\n",
       "  </tbody>\n",
       "</table>\n",
       "</div>"
      ],
      "text/plain": [
       "  compression                                        description format  \\\n",
       "0         NaN  Quantidade de projetos para a construção de cr...   json   \n",
       "1         NaN  Educação Infantil e Ensino fundamental: número...    xls   \n",
       "2         NaN  Quantidade de creches e pré-escolas cujas obra...   json   \n",
       "3         NaN  Valor do investimento para a construção das cr...   json   \n",
       "4         zip  Média de alunos por turmas em escolas e creche...    xls   \n",
       "5         zip                                censo 2000 familias    xls   \n",
       "6         zip  Média de alunos por turmas em escolas e creche...    xls   \n",
       "7         zip                                censo 2010 familias    xls   \n",
       "8         zip  Média de alunos por turmas em escolas e creche...    xls   \n",
       "\n",
       "                          identifier  \\\n",
       "0        aprovacao_construcao_creche   \n",
       "1                 data_rio_2004_2008   \n",
       "2                  construcao_creche   \n",
       "3  investimento_em_construcao_creche   \n",
       "4                  media_alunos_2010   \n",
       "5             censo_rj_familias_2000   \n",
       "6                  media_alunos_2008   \n",
       "7             censo_rj_familias_2010   \n",
       "8                  media_alunos_2009   \n",
       "\n",
       "                                    local_source  \\\n",
       "0        ./data/aprovacao_construcao_creche.json   \n",
       "1                  ./data/data_rio_2004_2008.xls   \n",
       "2                  ./data/construcao_creche.json   \n",
       "3  ./data/investimento_em_construcao_creche.json   \n",
       "4                       ./data/media_alunos_2010   \n",
       "5                              ./data/censo_2000   \n",
       "6                       ./data/media_alunos_2008   \n",
       "7                              ./data/censo_2010   \n",
       "8                       ./data/media_alunos_2009   \n",
       "\n",
       "                                              source  \n",
       "0        http://api.pgi.gov.br/api/1/serie/2555.json  \n",
       "1                      ./data/data_rio_2004_2008.xls  \n",
       "2        http://api.pgi.gov.br/api/1/serie/2620.json  \n",
       "3        http://api.pgi.gov.br/api/1/serie/1703.json  \n",
       "4  http://download.inep.gov.br/informacoes_estati...  \n",
       "5  ftp://ftp.ibge.gov.br/Censos/Censo_Demografico...  \n",
       "6  http://download.inep.gov.br/informacoes_estati...  \n",
       "7  ftp://ftp.ibge.gov.br/Censos/Censo_Demografico...  \n",
       "8  http://download.inep.gov.br/informacoes_estati...  "
      ]
     },
     "execution_count": 4,
     "metadata": {},
     "output_type": "execute_result"
    }
   ],
   "source": [
    "dataset_path = \"./datasets\"\n",
    "manager = DatasetManager(dataset_path)\n",
    "manager.show_datasets()"
   ]
  },
  {
   "cell_type": "code",
   "execution_count": 7,
   "metadata": {},
   "outputs": [
    {
     "name": "stderr",
     "output_type": "stream",
     "text": [
      "05-18 08:50 - DatasetManager - prepare_dataset - INFO - Preparing aprovacao_construcao_creche ...\n",
      "05-18 08:50 - DatasetManager - prepare_dataset - INFO - aprovacao_construcao_creche is ready to use!\n",
      "05-18 08:50 - DatasetManager - prepare_dataset - INFO - Preparing data_rio_2004_2008 ...\n",
      "05-18 08:50 - DatasetManager - prepare_dataset - INFO - data_rio_2004_2008 is ready to use!\n",
      "05-18 08:50 - DatasetManager - prepare_dataset - INFO - Preparing construcao_creche ...\n",
      "05-18 08:50 - DatasetManager - prepare_dataset - INFO - construcao_creche is ready to use!\n",
      "05-18 08:50 - DatasetManager - prepare_dataset - INFO - Preparing investimento_em_construcao_creche ...\n",
      "05-18 08:50 - DatasetManager - prepare_dataset - INFO - investimento_em_construcao_creche is ready to use!\n",
      "05-18 08:50 - DatasetManager - prepare_dataset - INFO - Preparing media_alunos_2010 ...\n",
      "05-18 08:50 - DatasetManager - prepare_dataset - INFO - media_alunos_2010 is ready to use!\n",
      "05-18 08:50 - DatasetManager - prepare_dataset - INFO - Preparing censo_rj_familias_2000 ...\n",
      "05-18 08:50 - DatasetManager - prepare_dataset - INFO - censo_rj_familias_2000 is ready to use!\n",
      "05-18 08:50 - DatasetManager - prepare_dataset - INFO - Preparing media_alunos_2008 ...\n",
      "05-18 08:50 - DatasetManager - prepare_dataset - INFO - media_alunos_2008 is ready to use!\n",
      "05-18 08:50 - DatasetManager - prepare_dataset - INFO - Preparing censo_rj_familias_2010 ...\n",
      "05-18 08:50 - DatasetManager - prepare_dataset - INFO - censo_rj_familias_2010 is ready to use!\n",
      "05-18 08:50 - DatasetManager - prepare_dataset - INFO - Preparing media_alunos_2009 ...\n",
      "05-18 08:50 - DatasetManager - prepare_dataset - INFO - media_alunos_2009 is ready to use!\n"
     ]
    }
   ],
   "source": [
    "manager.prepare_dataset()"
   ]
  },
  {
   "cell_type": "markdown",
   "metadata": {},
   "source": [
    "# 2 - Ler dataset de media de alunos"
   ]
  },
  {
   "cell_type": "code",
   "execution_count": null,
   "metadata": {},
   "outputs": [],
   "source": [
    "datasets_keys = [x for x in manager.get_datasets() if x.endswith(\"construcao_creche\")]"
   ]
  },
  {
   "cell_type": "code",
   "execution_count": null,
   "metadata": {},
   "outputs": [],
   "source": [
    "import json\n",
    "\n",
    "def read_dataset(identifier):\n",
    "    dataset = manager.get_dataset(identifier)\n",
    "    with open(dataset['local_source']) as local:\n",
    "        json_string = json.load(local)['valores']\n",
    "        return pd.DataFrame(json_string)"
   ]
  },
  {
   "cell_type": "code",
   "execution_count": null,
   "metadata": {},
   "outputs": [],
   "source": [
    "aprovacao_construcao_creche = read_dataset(datasets_keys[0])\n",
    "construcao_creche = read_dataset(datasets_keys[1])\n",
    "investimento_em_construcao_creche = read_dataset(datasets_keys[2])"
   ]
  },
  {
   "cell_type": "markdown",
   "metadata": {},
   "source": [
    "# 3 - Renomear colunas"
   ]
  },
  {
   "cell_type": "code",
   "execution_count": null,
   "metadata": {},
   "outputs": [],
   "source": [
    "aprovacao_construcao_creche.columns = [\"ano\", \"municipio_ibge\", \"aprovadas\"]\n",
    "aprovacao_construcao_creche.head()"
   ]
  },
  {
   "cell_type": "code",
   "execution_count": null,
   "metadata": {},
   "outputs": [],
   "source": [
    "construcao_creche.columns = [\"ano\", \"municipio_ibge\", \"construidas\"]\n",
    "construcao_creche.head()"
   ]
  },
  {
   "cell_type": "code",
   "execution_count": null,
   "metadata": {},
   "outputs": [],
   "source": [
    "df = investimento_em_construcao_creche.merge(\n",
    "    construcao_creche, on=[\"municipio_ibge\", \"ano\"]\n",
    ").merge(\n",
    "    aprovacao_construcao_creche, on=[\"municipio_ibge\", \"ano\"]\n",
    ")"
   ]
  },
  {
   "cell_type": "markdown",
   "metadata": {},
   "source": [
    "# 4 - Filtro"
   ]
  },
  {
   "cell_type": "code",
   "execution_count": null,
   "metadata": {},
   "outputs": [],
   "source": [
    "def por_ano(df):\n",
    "    df_anos = []\n",
    "    anos = sorted(list(df[[\"ano\"]].iloc[:,0].unique()))\n",
    "    for ano in anos:\n",
    "        df_anos.append(df[df[\"ano\"] == ano])\n",
    "    return df_anos"
   ]
  },
  {
   "cell_type": "code",
   "execution_count": null,
   "metadata": {},
   "outputs": [],
   "source": [
    "def mais_gastaram(dfs):\n",
    "    final_df = []\n",
    "    for df in dfs:\n",
    "        final_df.append(df.sort_values([\"ano\", \"valor\"], ascending=[False, False]).head())        \n",
    "    return pd.concat(final_df)"
   ]
  },
  {
   "cell_type": "code",
   "execution_count": null,
   "metadata": {},
   "outputs": [],
   "source": [
    "df_gastaram = mais_gastaram(por_ano(df))"
   ]
  },
  {
   "cell_type": "code",
   "execution_count": null,
   "metadata": {},
   "outputs": [],
   "source": [
    "df_gastaram.head()"
   ]
  },
  {
   "cell_type": "markdown",
   "metadata": {},
   "source": [
    "## 5 -  Cidades que mais gastaram por ano"
   ]
  },
  {
   "cell_type": "code",
   "execution_count": null,
   "metadata": {},
   "outputs": [],
   "source": [
    "import seaborn as sns\n",
    "from matplotlib import pyplot as plt\n",
    "sns.set_style(\"whitegrid\")"
   ]
  },
  {
   "cell_type": "code",
   "execution_count": null,
   "metadata": {},
   "outputs": [],
   "source": [
    "plt.subplots(figsize=(12,6))\n",
    "plt.title(\"Cidades que mais gastaram construindo creches\")\n",
    "\n",
    "sns.barplot(x=\"municipio_ibge\",\n",
    "            y=\"valor\",\n",
    "            hue=\"ano\",\n",
    "            data=df_gastaram,\n",
    "            ci=None)\n",
    "plt.legend(loc=[1,1])\n"
   ]
  },
  {
   "cell_type": "code",
   "execution_count": null,
   "metadata": {
    "scrolled": true
   },
   "outputs": [],
   "source": [
    "plt.subplots(figsize=(12,6))\n",
    "plt.title(\"Número de creches contruídas e valores\")\n",
    "\n",
    "sns.scatterplot(df_gastaram.municipio_ibge.apply(str),\n",
    "            df_gastaram.construidas,\n",
    "            s=df_gastaram.valor/100000, hue=df_gastaram.ano)\n",
    "plt.show()"
   ]
  },
  {
   "cell_type": "code",
   "execution_count": null,
   "metadata": {},
   "outputs": [],
   "source": [
    "plt.subplots(figsize=(12,6))\n",
    "plt.title(\"Número de creches aprovadas e valores\")\n",
    "\n",
    "sns.scatterplot(df_gastaram.municipio_ibge.apply(str),\n",
    "            df_gastaram.aprovadas,\n",
    "            s=df_gastaram.valor/100000, hue=df_gastaram.ano)\n",
    "plt.show()"
   ]
  },
  {
   "cell_type": "code",
   "execution_count": null,
   "metadata": {},
   "outputs": [],
   "source": []
  }
 ],
 "metadata": {
  "kernelspec": {
   "display_name": "Python 3",
   "language": "python",
   "name": "python3"
  },
  "language_info": {
   "codemirror_mode": {
    "name": "ipython",
    "version": 3
   },
   "file_extension": ".py",
   "mimetype": "text/x-python",
   "name": "python",
   "nbconvert_exporter": "python",
   "pygments_lexer": "ipython3",
   "version": "3.6.7"
  }
 },
 "nbformat": 4,
 "nbformat_minor": 2
}
